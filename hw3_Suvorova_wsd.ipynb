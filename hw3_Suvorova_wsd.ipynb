{
  "nbformat": 4,
  "nbformat_minor": 0,
  "metadata": {
    "colab": {
      "name": "hw3_Suvorova.ipynb",
      "provenance": []
    },
    "kernelspec": {
      "name": "python3",
      "display_name": "Python 3"
    }
  },
  "cells": [
    {
      "cell_type": "code",
      "metadata": {
        "id": "BK3tMtjRyTPA",
        "colab_type": "code",
        "colab": {}
      },
      "source": [
        "import adagram\n",
        "from nltk.tokenize import RegexpTokenizer\n",
        "from nltk.corpus import stopwords\n",
        "from pymorphy2 import MorphAnalyzer\n",
        "import numpy as np"
      ],
      "execution_count": 0,
      "outputs": []
    },
    {
      "cell_type": "code",
      "metadata": {
        "id": "yThMbtfHrJB2",
        "colab_type": "code",
        "colab": {
          "base_uri": "https://localhost:8080/",
          "height": 68
        },
        "outputId": "05e42fd3-6527-4954-db66-09c5edf57b1e"
      },
      "source": [
        "import nltk\n",
        "nltk.download('stopwords')"
      ],
      "execution_count": 16,
      "outputs": [
        {
          "output_type": "stream",
          "text": [
            "[nltk_data] Downloading package stopwords to /root/nltk_data...\n",
            "[nltk_data]   Unzipping corpora/stopwords.zip.\n"
          ],
          "name": "stdout"
        },
        {
          "output_type": "execute_result",
          "data": {
            "text/plain": [
              "True"
            ]
          },
          "metadata": {
            "tags": []
          },
          "execution_count": 16
        }
      ]
    },
    {
      "cell_type": "code",
      "metadata": {
        "id": "rbYjDfCexUn8",
        "colab_type": "code",
        "colab": {}
      },
      "source": [
        "morph = MorphAnalyzer()\n",
        "token = RegexpTokenizer('\\w+')\n",
        "stops = set(stopwords.words('russian'))\n",
        "\n",
        "def normalize_pm(text):\n",
        "    words = [morph.parse(word)[0].normal_form for word in tokenize(text) if word]\n",
        "    return words\n",
        "\n",
        "def tokenize(text):\n",
        "    return token.tokenize(text)"
      ],
      "execution_count": 0,
      "outputs": []
    },
    {
      "cell_type": "code",
      "metadata": {
        "id": "TEkd8J6oyI3Y",
        "colab_type": "code",
        "colab": {}
      },
      "source": [
        "vm = adagram.VectorModel.load('all.a010.p10.d300.w5.m100.nonorm.slim.joblib')"
      ],
      "execution_count": 0,
      "outputs": []
    },
    {
      "cell_type": "markdown",
      "metadata": {
        "id": "YtWppTTXedkI",
        "colab_type": "text"
      },
      "source": [
        "острый \n",
        "\n",
        "1) хорошо колющий/режущий край   ---- нож, игла\n",
        "\n",
        "2) суживающийся к концу          ---- конец, кончик, обувь, подбородок, нос\n",
        "\n",
        "3) хорошо развитой, изощрённый, тонкий    --- слух, юмор, ум, глаз"
      ]
    },
    {
      "cell_type": "code",
      "metadata": {
        "id": "su2F_vD7hRfp",
        "colab_type": "code",
        "colab": {}
      },
      "source": [
        "contexts = ['В руках у безумца ― портфель, в котором лежат четыре предмета: бумажка с адресом Ливии, яблоко, измеритель содержания сахара в крови ― и большой острый нож.',\n",
        " 'Она сегодня на шажок к нему поближе, завтра ещё на шажок (потому что сразу нет сил, страшно), а когда приблизится совсем близко (хорошо бы― в комнатке, в прохладе, где чая, однако, нет), тогда она достанет из-под кофты острый нож',\n",
        " 'А второй Алексей Петрович, внутри, всё съеживается, съеживается, сжимается, пропадает в маковое зёрнышко, в острый кончик иголки, в микробчика, в ничто, и если его не остановить, он совсем туда уйдёт.',\n",
        " 'В своей руке царь сжимал клинок ― острый, крепкий клинок, возможно, жертвенный нож, который когда-то мог без труда рассечь кость.',\n",
        " 'Я прислонился к какому-то дереву и вскрикнул от боли ― в меня вонзилась острая игла.',\n",
        " 'И тогда становилось ясно, что совсем не шлём у него на голове, а капюшон и под ним рога, что у него бесовский острый подбородок и усы, как у адского пса.',\n",
        " 'Рот умеренный, подбородок острый, голос тихий, уши средней величины, на левой ноге второй и третий пальцы сросшиеся».',\n",
        " 'А Нержин, иногда задумчиво посасывая острый кончик пластмассовой ручки, мельчайшим почерком, будто не пером, а остриём иглы, выписывал на крохотном листике, утонувшем меж служебного камуфляжа: \"Для математика в истории 17 года нет ничего неожиданного.',\n",
        " 'Положив острый подбородок на кулак, скорчившись на табурете и поджав одну ногу под себя, Воланд не отрываясь смотрел на необъятное сборище дворцов, гигантских домов и маленьких, обречённых на слом лачуг.',\n",
        " 'У него худощавое, в оспинах лицо, острый нос, седой венчик на голове, седые брови и выцветшие, белесые глаза. ',\n",
        " 'Ясный и острый ум, и это после стольких переживаний',\n",
        " 'У акустиков острый слух, а рубка акустика помещается в командирском отсеке, и он волей-неволей слышит больше, чем матросу положено.',\n",
        " 'А она все тормошила его и требовала, чтобы он еще, еще спрашивал, готова была рассказывать, объяснять, уточнять подробности, описывать приметы внешности, характерные жесты, повадки, походки, словно дождалась наконец той минуты, когда ее природная наблюдательность, ее острый глаз и незаурядное умение сопоставлять обрывки случайно «увиденных» слов, обобщая, вытягивая общий смысл, окажутся не то что востребованными, а жизненно необходимыми ― для Леона, для нее самой, для их будущего.',\n",
        " 'Когда же мой \"острый практический ум\" составляет какой-нибудь план, то вначале, пока я придумываю, всё идёт очень легко и просто, потому что участники будущих событий действуют так, как мне хочется.',\n",
        " 'Красавица, умница, она имела очень острый язык, обладала потрясающим чувством юмора, за что я её особенно любила.'\n",
        " ]"
      ],
      "execution_count": 0,
      "outputs": []
    },
    {
      "cell_type": "code",
      "metadata": {
        "id": "m9i6m80CHlt0",
        "colab_type": "code",
        "colab": {}
      },
      "source": [
        "dict_def = ['Имеющий хорошо колющий конец или хорошо режущий край',\n",
        " 'Суживающийся к концу.',\n",
        " 'Хорошо развитой, изощренный, тонкий ']"
      ],
      "execution_count": 0,
      "outputs": []
    },
    {
      "cell_type": "code",
      "metadata": {
        "id": "9XWFVSLsG_Jr",
        "colab_type": "code",
        "colab": {
          "base_uri": "https://localhost:8080/",
          "height": 51
        },
        "outputId": "feeb0c7d-30d9-44f3-bfae-d7199aa7a704"
      },
      "source": [
        "predicted = [np.argmax(vm.disambiguate('острый', normalize_pm(k))) for k in contexts]"
      ],
      "execution_count": 43,
      "outputs": [
        {
          "output_type": "stream",
          "text": [
            "/usr/local/lib/python3.6/dist-packages/adagram/model.py:171: RuntimeWarning: divide by zero encountered in log\n",
            "  z = np.log(z)\n"
          ],
          "name": "stderr"
        }
      ]
    },
    {
      "cell_type": "code",
      "metadata": {
        "id": "MeXKd-RvHUgf",
        "colab_type": "code",
        "colab": {
          "base_uri": "https://localhost:8080/",
          "height": 34
        },
        "outputId": "f5c1002d-d400-4439-b986-573968632ef8"
      },
      "source": [
        "predicted"
      ],
      "execution_count": 44,
      "outputs": [
        {
          "output_type": "execute_result",
          "data": {
            "text/plain": [
              "[3, 4, 4, 3, 4, 3, 3, 3, 3, 3, 4, 4, 4, 4, 4]"
            ]
          },
          "metadata": {
            "tags": []
          },
          "execution_count": 44
        }
      ]
    },
    {
      "cell_type": "code",
      "metadata": {
        "id": "pfUayV6DHspK",
        "colab_type": "code",
        "colab": {
          "base_uri": "https://localhost:8080/",
          "height": 51
        },
        "outputId": "9ec3ff39-b849-4e08-a809-f11d3ae8552a"
      },
      "source": [
        "predicted_dict = [np.argmax(vm.disambiguate('острый', normalize_pm(k))) for k in dict_def]"
      ],
      "execution_count": 46,
      "outputs": [
        {
          "output_type": "stream",
          "text": [
            "/usr/local/lib/python3.6/dist-packages/adagram/model.py:171: RuntimeWarning: divide by zero encountered in log\n",
            "  z = np.log(z)\n"
          ],
          "name": "stderr"
        }
      ]
    },
    {
      "cell_type": "code",
      "metadata": {
        "id": "eYFx8h5wH6Zh",
        "colab_type": "code",
        "colab": {
          "base_uri": "https://localhost:8080/",
          "height": 34
        },
        "outputId": "4ef7e1a4-e60c-4f4f-fe1f-4d0807c3f8c8"
      },
      "source": [
        "predicted_dict"
      ],
      "execution_count": 47,
      "outputs": [
        {
          "output_type": "execute_result",
          "data": {
            "text/plain": [
              "[3, 3, 3]"
            ]
          },
          "metadata": {
            "tags": []
          },
          "execution_count": 47
        }
      ]
    },
    {
      "cell_type": "code",
      "metadata": {
        "id": "VpxBq9SdwGR6",
        "colab_type": "code",
        "colab": {
          "base_uri": "https://localhost:8080/",
          "height": 68
        },
        "outputId": "d47f7519-09ea-45be-aa48-ab88e0038df6"
      },
      "source": [
        "means1 = vm.disambiguate('острый', normalize_pm(contexts[14]))\n",
        "np.argmax(means1)"
      ],
      "execution_count": 33,
      "outputs": [
        {
          "output_type": "stream",
          "text": [
            "/usr/local/lib/python3.6/dist-packages/adagram/model.py:171: RuntimeWarning: divide by zero encountered in log\n",
            "  z = np.log(z)\n"
          ],
          "name": "stderr"
        },
        {
          "output_type": "execute_result",
          "data": {
            "text/plain": [
              "4"
            ]
          },
          "metadata": {
            "tags": []
          },
          "execution_count": 33
        }
      ]
    },
    {
      "cell_type": "code",
      "metadata": {
        "id": "fv7d_qpT3A-_",
        "colab_type": "code",
        "colab": {
          "base_uri": "https://localhost:8080/",
          "height": 102
        },
        "outputId": "ec3d8b78-1896-443a-a84b-f3a09f487b5c"
      },
      "source": [
        "vm.word_sense_probs('острый')"
      ],
      "execution_count": 34,
      "outputs": [
        {
          "output_type": "execute_result",
          "data": {
            "text/plain": [
              "[(0, 0.07767787179352821),\n",
              " (1, 0.15569824496419105),\n",
              " (2, 0.22109164403437526),\n",
              " (3, 0.321297390807241),\n",
              " (4, 0.22423407098444537)]"
            ]
          },
          "metadata": {
            "tags": []
          },
          "execution_count": 34
        }
      ]
    },
    {
      "cell_type": "code",
      "metadata": {
        "id": "xd5GsWQm3aOl",
        "colab_type": "code",
        "colab": {
          "base_uri": "https://localhost:8080/",
          "height": 221
        },
        "outputId": "7e58c639-9090-433e-e0e6-18ba6978c482"
      },
      "source": [
        "vm.sense_neighbors('острый', 0)"
      ],
      "execution_count": 35,
      "outputs": [
        {
          "output_type": "stream",
          "text": [
            "/usr/local/lib/python3.6/dist-packages/adagram/model.py:124: RuntimeWarning: invalid value encountered in true_divide\n",
            "  sim_matrix = np.dot(self.In, s_v) / self.InNorms\n"
          ],
          "name": "stderr"
        },
        {
          "output_type": "execute_result",
          "data": {
            "text/plain": [
              "[('пряный', 0, 0.7627666),\n",
              " ('приправлять', 0, 0.7349547),\n",
              " ('приправа', 0, 0.724483),\n",
              " ('пикантный', 0, 0.72239685),\n",
              " ('перец', 1, 0.7065516),\n",
              " ('чесночный', 0, 0.7047403),\n",
              " ('кисло-сладкий', 0, 0.7045822),\n",
              " ('чили', 0, 0.7045208),\n",
              " ('карри', 0, 0.7006191),\n",
              " ('пряность', 0, 0.69331944)]"
            ]
          },
          "metadata": {
            "tags": []
          },
          "execution_count": 35
        }
      ]
    },
    {
      "cell_type": "code",
      "metadata": {
        "id": "O3h-2Cak3ddE",
        "colab_type": "code",
        "colab": {
          "base_uri": "https://localhost:8080/",
          "height": 221
        },
        "outputId": "03601ce4-43cc-427b-a140-436f2af847f9"
      },
      "source": [
        "vm.sense_neighbors('острый', 1)"
      ],
      "execution_count": 37,
      "outputs": [
        {
          "output_type": "stream",
          "text": [
            "/usr/local/lib/python3.6/dist-packages/adagram/model.py:124: RuntimeWarning: invalid value encountered in true_divide\n",
            "  sim_matrix = np.dot(self.In, s_v) / self.InNorms\n"
          ],
          "name": "stderr"
        },
        {
          "output_type": "execute_result",
          "data": {
            "text/plain": [
              "[('хронический', 0, 0.840538),\n",
              " ('пневмония', 0, 0.8382352),\n",
              " ('обострение', 0, 0.8298613),\n",
              " ('легочный', 1, 0.82931715),\n",
              " ('хронический', 1, 0.81933427),\n",
              " ('рецидивирующий', 0, 0.81812876),\n",
              " ('рецидивировать', 0, 0.80881864),\n",
              " ('подострый', 0, 0.80240965),\n",
              " ('миокардит', 0, 0.79860616),\n",
              " ('менингит', 0, 0.79799974)]"
            ]
          },
          "metadata": {
            "tags": []
          },
          "execution_count": 37
        }
      ]
    },
    {
      "cell_type": "code",
      "metadata": {
        "id": "fVBKX01K3jlx",
        "colab_type": "code",
        "colab": {
          "base_uri": "https://localhost:8080/",
          "height": 221
        },
        "outputId": "d98b2def-14b5-4edf-9e4f-e2dacfad1619"
      },
      "source": [
        "vm.sense_neighbors('острый', 2)"
      ],
      "execution_count": 38,
      "outputs": [
        {
          "output_type": "stream",
          "text": [
            "/usr/local/lib/python3.6/dist-packages/adagram/model.py:124: RuntimeWarning: invalid value encountered in true_divide\n",
            "  sim_matrix = np.dot(self.In, s_v) / self.InNorms\n"
          ],
          "name": "stderr"
        },
        {
          "output_type": "execute_result",
          "data": {
            "text/plain": [
              "[('злободневный', 0, 0.56665105),\n",
              " ('трудноразрешимый', 0, 0.54255724),\n",
              " ('обострять', 0, 0.5176394),\n",
              " ('насущный', 1, 0.51637393),\n",
              " ('назревать', 0, 0.5056267),\n",
              " ('конфликт', 0, 0.49893954),\n",
              " ('нерешенность', 0, 0.49728274),\n",
              " ('болезненный', 2, 0.47874802),\n",
              " ('нарастание', 1, 0.47848767),\n",
              " ('остро', 2, 0.4764235)]"
            ]
          },
          "metadata": {
            "tags": []
          },
          "execution_count": 38
        }
      ]
    },
    {
      "cell_type": "code",
      "metadata": {
        "id": "i3oXI6WN3o3e",
        "colab_type": "code",
        "colab": {
          "base_uri": "https://localhost:8080/",
          "height": 221
        },
        "outputId": "be8d3369-0f56-4820-f550-8f68a81cdfd7"
      },
      "source": [
        "vm.sense_neighbors('острый', 3)"
      ],
      "execution_count": 39,
      "outputs": [
        {
          "output_type": "stream",
          "text": [
            "/usr/local/lib/python3.6/dist-packages/adagram/model.py:124: RuntimeWarning: invalid value encountered in true_divide\n",
            "  sim_matrix = np.dot(self.In, s_v) / self.InNorms\n"
          ],
          "name": "stderr"
        },
        {
          "output_type": "execute_result",
          "data": {
            "text/plain": [
              "[('заостренный', 1, 0.767315),\n",
              " ('заострять', 2, 0.73238033),\n",
              " ('зазубренный', 1, 0.6713583),\n",
              " ('коготь', 1, 0.6690367),\n",
              " ('зазубрина', 0, 0.6673185),\n",
              " ('тупой', 0, 0.6597572),\n",
              " ('изогнутый', 2, 0.6567419),\n",
              " ('зазубренный', 0, 0.6526937),\n",
              " ('раздваивать', 0, 0.64653206),\n",
              " ('лезвие', 1, 0.6378876)]"
            ]
          },
          "metadata": {
            "tags": []
          },
          "execution_count": 39
        }
      ]
    },
    {
      "cell_type": "code",
      "metadata": {
        "id": "Pjniwppc3r90",
        "colab_type": "code",
        "colab": {
          "base_uri": "https://localhost:8080/",
          "height": 221
        },
        "outputId": "13a4f37a-1921-40af-a40d-63542b6557f9"
      },
      "source": [
        "vm.sense_neighbors('острый', 4)"
      ],
      "execution_count": 40,
      "outputs": [
        {
          "output_type": "stream",
          "text": [
            "/usr/local/lib/python3.6/dist-packages/adagram/model.py:124: RuntimeWarning: invalid value encountered in true_divide\n",
            "  sim_matrix = np.dot(self.In, s_v) / self.InNorms\n"
          ],
          "name": "stderr"
        },
        {
          "output_type": "execute_result",
          "data": {
            "text/plain": [
              "[('жгучий', 0, 0.5608939),\n",
              " ('жгучий', 1, 0.55882066),\n",
              " ('пронзать', 0, 0.552462),\n",
              " ('мучительный', 0, 0.54931206),\n",
              " ('нестерпимый', 1, 0.5401927),\n",
              " ('тупой', 1, 0.5389863),\n",
              " ('притуплять', 1, 0.53684616),\n",
              " ('укол', 1, 0.53580874),\n",
              " ('болезненный', 1, 0.53151745),\n",
              " ('притупляться', 0, 0.5194429)]"
            ]
          },
          "metadata": {
            "tags": []
          },
          "execution_count": 40
        }
      ]
    },
    {
      "cell_type": "markdown",
      "metadata": {
        "id": "Bk5c-AIwXmDs",
        "colab_type": "text"
      },
      "source": [
        "тезаурус был запущен в качестве эксперимента, и вики ворднет выдал для \"острого\" - \"острый, острый, острый\"\n",
        "что с этим делать - было неясно :("
      ]
    },
    {
      "cell_type": "markdown",
      "metadata": {
        "id": "khHsy2BPPQ1v",
        "colab_type": "text"
      },
      "source": [
        "значения острый нож и острый нос по адаграму вписываются в значение с индексом 3, а вот значение острый ум и вовсе отсутствует!\n",
        "так как адаграм все значения толкований определил, как \"3\", все контексты, где \"3\" будут считаться верными для подсчёта accuracy"
      ]
    },
    {
      "cell_type": "code",
      "metadata": {
        "id": "S2ZenTiPQJwT",
        "colab_type": "code",
        "colab": {
          "base_uri": "https://localhost:8080/",
          "height": 34
        },
        "outputId": "964fa369-de56-483f-b3e4-ca382f7c9e57"
      },
      "source": [
        "print('Accuracy', predicted.count(3)/len(predicted))"
      ],
      "execution_count": 48,
      "outputs": [
        {
          "output_type": "stream",
          "text": [
            "Accuracy 0.4666666666666667\n"
          ],
          "name": "stdout"
        }
      ]
    }
  ]
}